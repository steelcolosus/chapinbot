{
 "cells": [
  {
   "cell_type": "markdown",
   "metadata": {
    "deletable": true,
    "editable": true
   },
   "source": [
    "# Chapin style converstaion generator"
   ]
  },
  {
   "cell_type": "code",
   "execution_count": 1,
   "metadata": {
    "collapsed": true,
    "deletable": true,
    "editable": true
   },
   "outputs": [],
   "source": [
    "import pandas as pd"
   ]
  },
  {
   "cell_type": "markdown",
   "metadata": {
    "deletable": true,
    "editable": true
   },
   "source": [
    "## Transforming data into a script like format"
   ]
  },
  {
   "cell_type": "code",
   "execution_count": 2,
   "metadata": {
    "collapsed": true,
    "deletable": true,
    "editable": true
   },
   "outputs": [],
   "source": [
    "data_path = \"data/velmaxdata.csv\"\n",
    "threads = pd.read_csv(data_path)"
   ]
  },
  {
   "cell_type": "code",
   "execution_count": 3,
   "metadata": {
    "collapsed": false,
    "deletable": true,
    "editable": true
   },
   "outputs": [
    {
     "data": {
      "text/html": [
       "<div>\n",
       "<table border=\"1\" class=\"dataframe\">\n",
       "  <thead>\n",
       "    <tr style=\"text-align: right;\">\n",
       "      <th></th>\n",
       "      <th>Unnamed: 0</th>\n",
       "      <th>threadid</th>\n",
       "      <th>author</th>\n",
       "      <th>date</th>\n",
       "      <th>text</th>\n",
       "    </tr>\n",
       "  </thead>\n",
       "  <tbody>\n",
       "    <tr>\n",
       "      <th>0</th>\n",
       "      <td>0</td>\n",
       "      <td>4420</td>\n",
       "      <td>Mitsu-Elias</td>\n",
       "      <td>10-Jul-2006, 22:21</td>\n",
       "      <td>Cuando lo acelero hace un ruidito que juro ke ...</td>\n",
       "    </tr>\n",
       "    <tr>\n",
       "      <th>1</th>\n",
       "      <td>1</td>\n",
       "      <td>4420</td>\n",
       "      <td>Thunderboy</td>\n",
       "      <td>11-Jul-2006, 08:41</td>\n",
       "      <td>Pues si vos no sabes nosotros menos!! akfdjads...</td>\n",
       "    </tr>\n",
       "    <tr>\n",
       "      <th>2</th>\n",
       "      <td>2</td>\n",
       "      <td>4420</td>\n",
       "      <td>Mitsu-Elias</td>\n",
       "      <td>11-Jul-2006, 11:18</td>\n",
       "      <td>Pues si vos no sabes nosotros menos!! akfdjads...</td>\n",
       "    </tr>\n",
       "    <tr>\n",
       "      <th>3</th>\n",
       "      <td>3</td>\n",
       "      <td>4420</td>\n",
       "      <td>Thunderboy</td>\n",
       "      <td>11-Jul-2006, 11:38</td>\n",
       "      <td>Pues si, mas de una vez se me han bajado las r...</td>\n",
       "    </tr>\n",
       "    <tr>\n",
       "      <th>4</th>\n",
       "      <td>4</td>\n",
       "      <td>531900</td>\n",
       "      <td>Roberto.1®</td>\n",
       "      <td>13-Aug-2016, 09:27</td>\n",
       "      <td>ya se que me recomendaran las mejores marcas d...</td>\n",
       "    </tr>\n",
       "  </tbody>\n",
       "</table>\n",
       "</div>"
      ],
      "text/plain": [
       "   Unnamed: 0  threadid       author                date  \\\n",
       "0           0      4420  Mitsu-Elias  10-Jul-2006, 22:21   \n",
       "1           1      4420   Thunderboy  11-Jul-2006, 08:41   \n",
       "2           2      4420  Mitsu-Elias  11-Jul-2006, 11:18   \n",
       "3           3      4420   Thunderboy  11-Jul-2006, 11:38   \n",
       "4           4    531900   Roberto.1®  13-Aug-2016, 09:27   \n",
       "\n",
       "                                                text  \n",
       "0  Cuando lo acelero hace un ruidito que juro ke ...  \n",
       "1  Pues si vos no sabes nosotros menos!! akfdjads...  \n",
       "2  Pues si vos no sabes nosotros menos!! akfdjads...  \n",
       "3  Pues si, mas de una vez se me han bajado las r...  \n",
       "4  ya se que me recomendaran las mejores marcas d...  "
      ]
     },
     "execution_count": 3,
     "metadata": {},
     "output_type": "execute_result"
    }
   ],
   "source": [
    "threads.head()"
   ]
  },
  {
   "cell_type": "code",
   "execution_count": 4,
   "metadata": {
    "collapsed": false,
    "deletable": true,
    "editable": true
   },
   "outputs": [
    {
     "data": {
      "text/html": [
       "<div>\n",
       "<table border=\"1\" class=\"dataframe\">\n",
       "  <thead>\n",
       "    <tr style=\"text-align: right;\">\n",
       "      <th></th>\n",
       "      <th>threadid</th>\n",
       "      <th>author</th>\n",
       "      <th>text</th>\n",
       "    </tr>\n",
       "  </thead>\n",
       "  <tbody>\n",
       "    <tr>\n",
       "      <th>0</th>\n",
       "      <td>4420</td>\n",
       "      <td>Mitsu-Elias</td>\n",
       "      <td>Cuando lo acelero hace un ruidito que juro ke ...</td>\n",
       "    </tr>\n",
       "    <tr>\n",
       "      <th>1</th>\n",
       "      <td>4420</td>\n",
       "      <td>Thunderboy</td>\n",
       "      <td>Pues si vos no sabes nosotros menos!! akfdjads...</td>\n",
       "    </tr>\n",
       "    <tr>\n",
       "      <th>2</th>\n",
       "      <td>4420</td>\n",
       "      <td>Mitsu-Elias</td>\n",
       "      <td>Pues si vos no sabes nosotros menos!! akfdjads...</td>\n",
       "    </tr>\n",
       "    <tr>\n",
       "      <th>3</th>\n",
       "      <td>4420</td>\n",
       "      <td>Thunderboy</td>\n",
       "      <td>Pues si, mas de una vez se me han bajado las r...</td>\n",
       "    </tr>\n",
       "    <tr>\n",
       "      <th>4</th>\n",
       "      <td>531900</td>\n",
       "      <td>Roberto.1®</td>\n",
       "      <td>ya se que me recomendaran las mejores marcas d...</td>\n",
       "    </tr>\n",
       "  </tbody>\n",
       "</table>\n",
       "</div>"
      ],
      "text/plain": [
       "   threadid       author                                               text\n",
       "0      4420  Mitsu-Elias  Cuando lo acelero hace un ruidito que juro ke ...\n",
       "1      4420   Thunderboy  Pues si vos no sabes nosotros menos!! akfdjads...\n",
       "2      4420  Mitsu-Elias  Pues si vos no sabes nosotros menos!! akfdjads...\n",
       "3      4420   Thunderboy  Pues si, mas de una vez se me han bajado las r...\n",
       "4    531900   Roberto.1®  ya se que me recomendaran las mejores marcas d..."
      ]
     },
     "execution_count": 4,
     "metadata": {},
     "output_type": "execute_result"
    }
   ],
   "source": [
    "fields_to_drop = ['Unnamed: 0','date']\n",
    "threads = threads.drop(fields_to_drop,axis=1)\n",
    "threads.head()"
   ]
  },
  {
   "cell_type": "markdown",
   "metadata": {
    "deletable": true,
    "editable": true
   },
   "source": [
    "### Building script blocks"
   ]
  },
  {
   "cell_type": "code",
   "execution_count": 5,
   "metadata": {
    "collapsed": false,
    "deletable": true,
    "editable": true
   },
   "outputs": [
    {
     "name": "stdout",
     "output_type": "stream",
     "text": [
      "4420\n"
     ]
    }
   ],
   "source": [
    "thread_id = threads[0:1]['threadid'][0]\n",
    "print(thread_id)"
   ]
  },
  {
   "cell_type": "code",
   "execution_count": 6,
   "metadata": {
    "collapsed": false,
    "deletable": true,
    "editable": true
   },
   "outputs": [],
   "source": [
    "with open('./data/script.txt','w') as out_file:\n",
    "    \n",
    "    for index, thread in threads.iterrows():\n",
    "        \n",
    "        if thread['threadid'] != thread_id:\n",
    "            out_file.write('\\n\\n')\n",
    "\n",
    "        line = \"{}: {}\".format(thread['author'],thread['text']).strip()\n",
    "        if not line.endswith('.'):\n",
    "            line+='.'\n",
    "\n",
    "        out_file.write(line+'\\n')\n",
    "        \n",
    "        thread_id = thread['threadid']"
   ]
  },
  {
   "cell_type": "markdown",
   "metadata": {
    "deletable": true,
    "editable": true
   },
   "source": [
    "## Checkpoint \n",
    "\n",
    "After processing the data you can start here loading the transforming data directly. The preprocessed data has been saved to disk."
   ]
  },
  {
   "cell_type": "code",
   "execution_count": 1,
   "metadata": {
    "collapsed": false,
    "deletable": true,
    "editable": true
   },
   "outputs": [],
   "source": [
    "import helper\n",
    "\n",
    "data_dir = './data/script.txt'\n",
    "text = helper.load_data(data_dir)"
   ]
  },
  {
   "cell_type": "markdown",
   "metadata": {
    "deletable": true,
    "editable": true
   },
   "source": [
    "## Explore the data"
   ]
  },
  {
   "cell_type": "code",
   "execution_count": 8,
   "metadata": {
    "collapsed": false,
    "deletable": true,
    "editable": true
   },
   "outputs": [
    {
     "name": "stdout",
     "output_type": "stream",
     "text": [
      "Dataset Stats\n",
      "Roughly the number of unique words: 3754730\n",
      "Number of scenes: 444505\n",
      "Average number of sentences in each scene: 23.253801419556584\n",
      "Number of lines: 10780936\n",
      "Average number of words in each line: 12.654039593593728\n",
      "\n",
      "The sentences 0 to 10:\n",
      "Mitsu-Elias: Cuando lo acelero hace un ruidito que juro ke no identifico que es, suena como si las bujias estubieran humedas, cosa que ya me asegure que no fuera. Que podria ser? Otra cosa, que beneficios me puede dar comprar un catalizador de marca y cuanto vale mas o menos.\n",
      "Thunderboy: Pues si vos no sabes nosotros menos!! akfdjadsfkljkalsfd.\n",
      "Mitsu-Elias: Pues si vos no sabes nosotros menos!! akfdjadsfkljkalsfd.\n",
      "Thunderboy: Pues si, mas de una vez se me han bajado las revoluciones y ha perdido potencia, cuando lo compre venia con una bujia diferente a las demas y por descuido no me fije en eso, pero cambie las bujias y ahora son iguales, no se si tendra que ver que se me hayan mojado mas de una vez (con esos diluvios que caen por aki), kisa tiene algo que ver con el forro de las bujias creo que no las cubre del todo bien.\n",
      "\n",
      "\n",
      "Roberto.1®: ya se que me recomendaran las mejores marcas de moto. pero ando buscando algo economico.\n",
      "Leviatan182: Pasate al area de motos, ahi hay varias recomendaciones :si:.\n",
      "BorisEstuardo: Compra una bajaj, esas son económicas y no tan caras, en olx ay por montón.\n",
      "\n"
     ]
    }
   ],
   "source": [
    "view_sentence_range = (0, 10)\n",
    "\n",
    "import numpy as np\n",
    "\n",
    "print('Dataset Stats')\n",
    "print('Roughly the number of unique words: {}'.format(len({word: None for word in text.split()})))\n",
    "scenes = text.split('\\n\\n')\n",
    "print('Number of scenes: {}'.format(len(scenes)))\n",
    "sentence_count_scene = [scene.count('\\n') for scene in scenes]\n",
    "print('Average number of sentences in each scene: {}'.format(np.average(sentence_count_scene)))\n",
    "\n",
    "sentences = [sentence for scene in scenes for sentence in scene.split('\\n')]\n",
    "print('Number of lines: {}'.format(len(sentences)))\n",
    "word_count_sentence = [len(sentence.split()) for sentence in sentences]\n",
    "print('Average number of words in each line: {}'.format(np.average(word_count_sentence)))\n",
    "\n",
    "print()\n",
    "print('The sentences {} to {}:'.format(*view_sentence_range))\n",
    "print('\\n'.join(text.split('\\n')[view_sentence_range[0]:view_sentence_range[1]]))"
   ]
  },
  {
   "cell_type": "markdown",
   "metadata": {
    "deletable": true,
    "editable": true
   },
   "source": [
    "## Implementing Preprocessing Functions"
   ]
  },
  {
   "cell_type": "markdown",
   "metadata": {
    "deletable": true,
    "editable": true
   },
   "source": [
    "In order to preprocess the dataset we are going to implement the following preprocessing functions:\n",
    "* Lookup Table\n",
    "* Tokenize Punctuation"
   ]
  },
  {
   "cell_type": "markdown",
   "metadata": {
    "deletable": true,
    "editable": true
   },
   "source": [
    "### Lookup Table\n",
    "\n",
    "To create a word embedding, we need to transform the words to ids. We will create two dictionaries:\n",
    "* Dictionary to go from the words to an id, we'll call vocab_to_int\n",
    "* Dictionary to go from the id to word, we'll call int_to_vocab"
   ]
  },
  {
   "cell_type": "code",
   "execution_count": 2,
   "metadata": {
    "collapsed": true,
    "deletable": true,
    "editable": true
   },
   "outputs": [],
   "source": [
    "import numpy as np\n",
    "from collections import Counter\n",
    "\n",
    "def create_lookup_tables(text):\n",
    "    \"\"\"\n",
    "    Create lookup tables for vocabulary\n",
    "    :param text: The text of velmax scripts split into words\n",
    "    :return: A tuple of dicts (vocab_to_int, int_to_vocab)\n",
    "    \"\"\"\n",
    "    # TODO: Implement Function\n",
    "    word_counts = Counter(text)\n",
    "    sorted_vocab = sorted(word_counts, key=word_counts.get, reverse=True)\n",
    "    int_to_vocab = {ii: word for ii, word in enumerate(sorted_vocab)}\n",
    "    vocab_to_int = {word: ii for ii, word in int_to_vocab.items()}\n",
    "\n",
    "    return vocab_to_int, int_to_vocab\n"
   ]
  },
  {
   "cell_type": "markdown",
   "metadata": {
    "deletable": true,
    "editable": true
   },
   "source": [
    "## Tokenize punctuation\n",
    "\n",
    "We'll be splitting the script into a word array using spaces as delimiters. However, punctuations like periods and exclamation marks make it hard for the neural network to distinguish between the word \"bye\" and \"bye!\".\n",
    "\n",
    "The token_lookup function will return a dict that will be used to tokenize symbols like \"?\" into \"||Question_Mark||\"\n",
    "\n",
    "This dictionary will be used to token the symbols and add the delimiter (space) around it. This separates the symbols as it's own word, making it easier for the neural network to predict on the next word"
   ]
  },
  {
   "cell_type": "code",
   "execution_count": 3,
   "metadata": {
    "collapsed": true,
    "deletable": true,
    "editable": true
   },
   "outputs": [],
   "source": [
    "def token_lookup():\n",
    "    \"\"\"\n",
    "    Generate a dict to turn punctuation into a token.\n",
    "    :return: Tokenize dictionary where the key is the punctuation and the value is the token\n",
    "    \"\"\"\n",
    "    # TODO: Implement Function\n",
    "    punct_dic = {\n",
    "        '.' : '||Period||',\n",
    "        ',' : '||Comma||',\n",
    "        '\"' : '||Quotation_Mark||',\n",
    "        ';' : '||Semicolon||',\n",
    "        '!' : '||Exclamation_Mark||',\n",
    "        '?' : '||Question_Mark||',\n",
    "        '(' : '||Left_Parentheses||',\n",
    "        ')' : '||Right_Parentheses||',\n",
    "        '--': '||Dash||',\n",
    "        '\\n': '||Return||'\n",
    "    }\n",
    "    return punct_dic\n"
   ]
  },
  {
   "cell_type": "markdown",
   "metadata": {
    "deletable": true,
    "editable": true
   },
   "source": [
    "# Pre process all data and save it"
   ]
  },
  {
   "cell_type": "code",
   "execution_count": null,
   "metadata": {
    "collapsed": false,
    "deletable": true,
    "editable": true
   },
   "outputs": [],
   "source": [
    "# Preprocess Training, Validation, and Testing Data\n",
    "helper.preprocess_and_save_data(data_dir, token_lookup, create_lookup_tables)"
   ]
  },
  {
   "cell_type": "markdown",
   "metadata": {
    "collapsed": true,
    "deletable": true,
    "editable": true
   },
   "source": [
    "## Checkpoint #2"
   ]
  },
  {
   "cell_type": "markdown",
   "metadata": {},
   "source": [
    "The preprocessed data has been saved to disk. We can start from here the next time"
   ]
  },
  {
   "cell_type": "code",
   "execution_count": null,
   "metadata": {
    "collapsed": true
   },
   "outputs": [],
   "source": []
  }
 ],
 "metadata": {
  "kernelspec": {
   "display_name": "Python 3",
   "language": "python",
   "name": "python3"
  },
  "language_info": {
   "codemirror_mode": {
    "name": "ipython",
    "version": 3
   },
   "file_extension": ".py",
   "mimetype": "text/x-python",
   "name": "python",
   "nbconvert_exporter": "python",
   "pygments_lexer": "ipython3",
   "version": "3.5.3"
  }
 },
 "nbformat": 4,
 "nbformat_minor": 2
}
