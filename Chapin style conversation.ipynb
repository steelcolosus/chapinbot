{
 "cells": [
  {
   "cell_type": "markdown",
   "metadata": {
    "deletable": true,
    "editable": true
   },
   "source": [
    "# Chapin style converstaion generator"
   ]
  },
  {
   "cell_type": "code",
   "execution_count": null,
   "metadata": {
    "collapsed": true,
    "deletable": true,
    "editable": true
   },
   "outputs": [],
   "source": [
    "import pandas as pd"
   ]
  },
  {
   "cell_type": "markdown",
   "metadata": {
    "deletable": true,
    "editable": true
   },
   "source": [
    "## Transforming data into a script like format"
   ]
  },
  {
   "cell_type": "code",
   "execution_count": null,
   "metadata": {
    "collapsed": true,
    "deletable": true,
    "editable": true
   },
   "outputs": [],
   "source": [
    "data_path = \"data/velmaxdata.csv\"\n",
    "threads = pd.read_csv(data_path)"
   ]
  },
  {
   "cell_type": "code",
   "execution_count": null,
   "metadata": {
    "collapsed": false,
    "deletable": true,
    "editable": true
   },
   "outputs": [],
   "source": [
    "threads.head()"
   ]
  },
  {
   "cell_type": "code",
   "execution_count": null,
   "metadata": {
    "collapsed": false,
    "deletable": true,
    "editable": true
   },
   "outputs": [],
   "source": [
    "fields_to_drop = ['Unnamed: 0','date']\n",
    "threads = threads.drop(fields_to_drop,axis=1)\n",
    "threads.head()"
   ]
  },
  {
   "cell_type": "markdown",
   "metadata": {
    "deletable": true,
    "editable": true
   },
   "source": [
    "### Building script blocks"
   ]
  },
  {
   "cell_type": "code",
   "execution_count": null,
   "metadata": {
    "collapsed": false,
    "deletable": true,
    "editable": true
   },
   "outputs": [],
   "source": [
    "thread_id = threads[0:1]['threadid'][0]\n",
    "print(thread_id)"
   ]
  },
  {
   "cell_type": "code",
   "execution_count": null,
   "metadata": {
    "collapsed": false,
    "deletable": true,
    "editable": true
   },
   "outputs": [],
   "source": [
    "with open('./data/script.txt','w') as out_file:\n",
    "    \n",
    "    for index, thread in threads.iterrows():\n",
    "        \n",
    "        if thread['threadid'] != thread_id:\n",
    "            out_file.write('\\n\\n')\n",
    "\n",
    "        line = \"{}: {}\".format(thread['author'],thread['text']).strip()\n",
    "        if not line.endswith('.'):\n",
    "            line+='.'\n",
    "\n",
    "        out_file.write(line+'\\n')\n",
    "        \n",
    "        thread_id = thread['threadid']"
   ]
  },
  {
   "cell_type": "markdown",
   "metadata": {
    "deletable": true,
    "editable": true
   },
   "source": [
    "## Checkpoint \n",
    "\n",
    "After processing the data you can start here loading the transforming data directly. The preprocessed data has been saved to disk."
   ]
  },
  {
   "cell_type": "code",
   "execution_count": 1,
   "metadata": {
    "collapsed": false,
    "deletable": true,
    "editable": true
   },
   "outputs": [],
   "source": [
    "import helper\n",
    "data_dir = './data/script.txt'"
   ]
  },
  {
   "cell_type": "code",
   "execution_count": 2,
   "metadata": {
    "collapsed": false,
    "deletable": true,
    "editable": true
   },
   "outputs": [],
   "source": [
    "text = helper.load_data(data_dir)\n",
    "index = len(text)//500\n",
    "text = text[:index]"
   ]
  },
  {
   "cell_type": "markdown",
   "metadata": {
    "deletable": true,
    "editable": true
   },
   "source": [
    "## Explore the data"
   ]
  },
  {
   "cell_type": "code",
   "execution_count": 3,
   "metadata": {
    "collapsed": false,
    "deletable": true,
    "editable": true
   },
   "outputs": [
    {
     "name": "stdout",
     "output_type": "stream",
     "text": [
      "Dataset Stats\n",
      "Roughly the number of unique words: 35915\n",
      "Number of scenes: 1554\n",
      "Average number of sentences in each scene: 10.297297297297296\n",
      "Number of lines: 17556\n",
      "Average number of words in each line: 15.940248348143085\n",
      "\n",
      "The sentences 0 to 10:\n",
      "Mitsu-Elias: Cuando lo acelero hace un ruidito que juro ke no identifico que es, suena como si las bujias estubieran humedas, cosa que ya me asegure que no fuera. Que podria ser? Otra cosa, que beneficios me puede dar comprar un catalizador de marca y cuanto vale mas o menos.\n",
      "Thunderboy: Pues si vos no sabes nosotros menos!! akfdjadsfkljkalsfd.\n",
      "Mitsu-Elias: Pues si vos no sabes nosotros menos!! akfdjadsfkljkalsfd.\n",
      "Thunderboy: Pues si, mas de una vez se me han bajado las revoluciones y ha perdido potencia, cuando lo compre venia con una bujia diferente a las demas y por descuido no me fije en eso, pero cambie las bujias y ahora son iguales, no se si tendra que ver que se me hayan mojado mas de una vez (con esos diluvios que caen por aki), kisa tiene algo que ver con el forro de las bujias creo que no las cubre del todo bien.\n",
      "\n",
      "\n",
      "Roberto.1®: ya se que me recomendaran las mejores marcas de moto. pero ando buscando algo economico.\n",
      "Leviatan182: Pasate al area de motos, ahi hay varias recomendaciones :si:.\n",
      "BorisEstuardo: Compra una bajaj, esas son económicas y no tan caras, en olx ay por montón.\n",
      "\n"
     ]
    }
   ],
   "source": [
    "view_sentence_range = (0, 10)\n",
    "\n",
    "import numpy as np\n",
    "\n",
    "print('Dataset Stats')\n",
    "print('Roughly the number of unique words: {}'.format(len({word: None for word in text.split()})))\n",
    "scenes = text.split('\\n\\n')\n",
    "print('Number of scenes: {}'.format(len(scenes)))\n",
    "sentence_count_scene = [scene.count('\\n') for scene in scenes]\n",
    "print('Average number of sentences in each scene: {}'.format(np.average(sentence_count_scene)))\n",
    "\n",
    "sentences = [sentence for scene in scenes for sentence in scene.split('\\n')]\n",
    "print('Number of lines: {}'.format(len(sentences)))\n",
    "word_count_sentence = [len(sentence.split()) for sentence in sentences]\n",
    "print('Average number of words in each line: {}'.format(np.average(word_count_sentence)))\n",
    "\n",
    "print()\n",
    "print('The sentences {} to {}:'.format(*view_sentence_range))\n",
    "print('\\n'.join(text.split('\\n')[view_sentence_range[0]:view_sentence_range[1]]))"
   ]
  },
  {
   "cell_type": "markdown",
   "metadata": {
    "deletable": true,
    "editable": true
   },
   "source": [
    "## Implementing Preprocessing Functions"
   ]
  },
  {
   "cell_type": "markdown",
   "metadata": {
    "deletable": true,
    "editable": true
   },
   "source": [
    "In order to preprocess the dataset we are going to implement the following preprocessing functions:\n",
    "* Lookup Table\n",
    "* Tokenize Punctuation"
   ]
  },
  {
   "cell_type": "markdown",
   "metadata": {
    "deletable": true,
    "editable": true
   },
   "source": [
    "### Lookup Table\n",
    "\n",
    "To create a word embedding, we need to transform the words to ids. We will create two dictionaries:\n",
    "* Dictionary to go from the words to an id, we'll call vocab_to_int\n",
    "* Dictionary to go from the id to word, we'll call int_to_vocab"
   ]
  },
  {
   "cell_type": "code",
   "execution_count": 4,
   "metadata": {
    "collapsed": true,
    "deletable": true,
    "editable": true
   },
   "outputs": [],
   "source": [
    "import numpy as np\n",
    "from collections import Counter\n",
    "\n",
    "def create_lookup_tables(text):\n",
    "    \"\"\"\n",
    "    Create lookup tables for vocabulary\n",
    "    :param text: The text of velmax scripts split into words\n",
    "    :return: A tuple of dicts (vocab_to_int, int_to_vocab)\n",
    "    \"\"\"\n",
    "    # TODO: Implement Function\n",
    "    print('countint words')\n",
    "    word_counts = Counter(text)\n",
    "    print('sorting words')\n",
    "    sorted_vocab = sorted(word_counts, key=word_counts.get, reverse=True)\n",
    "    print('generating int to vocab')\n",
    "    int_to_vocab = {ii: word for ii, word in enumerate(sorted_vocab)}\n",
    "    print('generating vocab to int')\n",
    "    vocab_to_int = {word: ii for ii, word in int_to_vocab.items()}\n",
    "\n",
    "    return vocab_to_int, int_to_vocab"
   ]
  },
  {
   "cell_type": "markdown",
   "metadata": {
    "deletable": true,
    "editable": true
   },
   "source": [
    "## Tokenize punctuation\n",
    "\n",
    "We'll be splitting the script into a word array using spaces as delimiters. However, punctuations like periods and exclamation marks make it hard for the neural network to distinguish between the word \"bye\" and \"bye!\".\n",
    "\n",
    "The token_lookup function will return a dict that will be used to tokenize symbols like \"?\" into \"||Question_Mark||\"\n",
    "\n",
    "This dictionary will be used to token the symbols and add the delimiter (space) around it. This separates the symbols as it's own word, making it easier for the neural network to predict on the next word"
   ]
  },
  {
   "cell_type": "code",
   "execution_count": 5,
   "metadata": {
    "collapsed": true,
    "deletable": true,
    "editable": true
   },
   "outputs": [],
   "source": [
    "def token_lookup():\n",
    "    \"\"\"\n",
    "    Generate a dict to turn punctuation into a token.\n",
    "    :return: Tokenize dictionary where the key is the punctuation and the value is the token\n",
    "    \"\"\"\n",
    "    # TODO: Implement Function\n",
    "    punct_dic = {\n",
    "        '.' : '||Period||',\n",
    "        ',' : '||Comma||',\n",
    "        '\"' : '||Quotation_Mark||',\n",
    "        ';' : '||Semicolon||',\n",
    "        '!' : '||Exclamation_Mark||',\n",
    "        '?' : '||Question_Mark||',\n",
    "        '(' : '||Left_Parentheses||',\n",
    "        ')' : '||Right_Parentheses||',\n",
    "        '--': '||Dash||',\n",
    "        '\\n': '||Return||'\n",
    "    }\n",
    "    return punct_dic"
   ]
  },
  {
   "cell_type": "markdown",
   "metadata": {
    "deletable": true,
    "editable": true
   },
   "source": [
    "# Pre process all data and save it"
   ]
  },
  {
   "cell_type": "code",
   "execution_count": 6,
   "metadata": {
    "collapsed": false,
    "deletable": true,
    "editable": true
   },
   "outputs": [
    {
     "name": "stdout",
     "output_type": "stream",
     "text": [
      "loading data set\n",
      "reducing (3)\n",
      "creating token punctuation dict\n",
      "replacing tokens\n",
      "to lower case\n",
      "spliting text\n",
      "creating lookup tables\n",
      "countint words\n",
      "sorting words\n",
      "generating int to vocab\n",
      "generating vocab to int\n",
      "saving data.\n",
      "writing total_bytes=1325693...\n",
      "writing bytes [0, 1325693)... done.\n"
     ]
    }
   ],
   "source": [
    "import helper\n",
    "data_dir = './data/script.txt'\n",
    "# Preprocess Training, Validation, and Testing Data\n",
    "helper.preprocess_and_save_data(data_dir, token_lookup, create_lookup_tables)"
   ]
  },
  {
   "cell_type": "markdown",
   "metadata": {
    "collapsed": true,
    "deletable": true,
    "editable": true
   },
   "source": [
    "## Checkpoint #2"
   ]
  },
  {
   "cell_type": "markdown",
   "metadata": {
    "deletable": true,
    "editable": true
   },
   "source": [
    "The preprocessed data has been saved to disk. We can start from here the next time"
   ]
  },
  {
   "cell_type": "code",
   "execution_count": 1,
   "metadata": {
    "collapsed": true,
    "deletable": true,
    "editable": true
   },
   "outputs": [],
   "source": [
    "import helper\n",
    "import numpy as np\n",
    "\n",
    "int_text, vocab_to_int, int_to_vocab, token_dict = helper.load_preprocess()"
   ]
  },
  {
   "cell_type": "markdown",
   "metadata": {
    "deletable": true,
    "editable": true
   },
   "source": [
    "## Check Tensorflow version"
   ]
  },
  {
   "cell_type": "code",
   "execution_count": 2,
   "metadata": {
    "collapsed": false,
    "deletable": true,
    "editable": true
   },
   "outputs": [
    {
     "name": "stdout",
     "output_type": "stream",
     "text": [
      "TensorFlow Version: 1.1.0\n",
      "Default GPU Device: /gpu:0\n"
     ]
    }
   ],
   "source": [
    "from distutils.version import LooseVersion\n",
    "import warnings\n",
    "import tensorflow as tf\n",
    "\n",
    "# Check TensorFlow Version\n",
    "assert LooseVersion(tf.__version__) >= LooseVersion('1.0'), 'Please use TensorFlow version 1.0 or newer'\n",
    "print('TensorFlow Version: {}'.format(tf.__version__))\n",
    "\n",
    "# Check for a GPU\n",
    "if not tf.test.gpu_device_name():\n",
    "    warnings.warn('No GPU found. Please use a GPU to train your neural network.')\n",
    "else:\n",
    "    print('Default GPU Device: {}'.format(tf.test.gpu_device_name()))"
   ]
  },
  {
   "cell_type": "markdown",
   "metadata": {
    "deletable": true,
    "editable": true
   },
   "source": [
    "## Get tensors"
   ]
  },
  {
   "cell_type": "code",
   "execution_count": 3,
   "metadata": {
    "collapsed": true,
    "deletable": true,
    "editable": true
   },
   "outputs": [],
   "source": [
    "def get_inputs():\n",
    "    \"\"\"\n",
    "    Create TF Placeholders for input, targets, and learning rate.\n",
    "    :return: Tuple (input, targets, learning rate)\n",
    "    \"\"\"\n",
    "    # TODO: Implement Function\n",
    "    inputs_ = tf.placeholder(tf.int32, [None, None], name='input')\n",
    "    targets = tf.placeholder(tf.int32, [None, None], name='target')\n",
    "    learning_rate = tf.placeholder(tf.float32, name='learning_rate')\n",
    "    keep_prob = tf.placeholder(tf.float32, name='keep_prob')\n",
    "    return inputs_, targets, learning_rate, keep_prob"
   ]
  },
  {
   "cell_type": "markdown",
   "metadata": {
    "deletable": true,
    "editable": true
   },
   "source": [
    "## Build RNN Cell and Initialize"
   ]
  },
  {
   "cell_type": "code",
   "execution_count": 4,
   "metadata": {
    "collapsed": true,
    "deletable": true,
    "editable": true
   },
   "outputs": [],
   "source": [
    "def make_cell(rnn_size, keep_prob):\n",
    "    lstm = tf.contrib.rnn.LSTMCell(rnn_size, initializer=tf.random_uniform_initializer(-0.1, 0.1, seed=2))\n",
    "    drop = tf.contrib.rnn.DropoutWrapper(lstm, output_keep_prob=keep_prob)\n",
    "    return drop\n",
    "\n",
    "def get_init_cell(batch_size, rnn_size, keep_prob):\n",
    "    \"\"\"\n",
    "    Create an RNN Cell and initialize it.\n",
    "    :param batch_size: Size of batches\n",
    "    :param rnn_size: Size of RNNs\n",
    "    :return: Tuple (cell, initialize state)\n",
    "    \"\"\"\n",
    "    # TODO: Implement Function\n",
    "    num_layers = 1\n",
    "    cell = tf.contrib.rnn.MultiRNNCell([make_cell(rnn_size, keep_prob) for _ in range(num_layers)])\n",
    "    initial_state = tf.identity(cell.zero_state(batch_size, tf.float32), name='initial_state')\n",
    "    \n",
    "    return cell, initial_state"
   ]
  },
  {
   "cell_type": "markdown",
   "metadata": {
    "deletable": true,
    "editable": true
   },
   "source": [
    "## Word embedding"
   ]
  },
  {
   "cell_type": "markdown",
   "metadata": {
    "deletable": true,
    "editable": true
   },
   "source": [
    "Apply embedding to input_data using TensorFlow. Return the embedded sequence."
   ]
  },
  {
   "cell_type": "code",
   "execution_count": 5,
   "metadata": {
    "collapsed": true,
    "deletable": true,
    "editable": true
   },
   "outputs": [],
   "source": [
    "def get_embed(input_data, vocab_size, embed_dim):\n",
    "    \"\"\"\n",
    "    Create embedding for <input_data>.\n",
    "    :param input_data: TF placeholder for text input.\n",
    "    :param vocab_size: Number of words in vocabulary.\n",
    "    :param embed_dim: Number of embedding dimensions\n",
    "    :return: Embedded input.\n",
    "    \"\"\"\n",
    "    # TODO: Implement Function\n",
    "    embedding = tf.Variable(tf.random_uniform((vocab_size, embed_dim), -1, 1))\n",
    "    embed = tf.nn.embedding_lookup(embedding, input_data)\n",
    "    return embed"
   ]
  },
  {
   "cell_type": "markdown",
   "metadata": {
    "deletable": true,
    "editable": true
   },
   "source": [
    "## Build RNN"
   ]
  },
  {
   "cell_type": "code",
   "execution_count": 6,
   "metadata": {
    "collapsed": true,
    "deletable": true,
    "editable": true
   },
   "outputs": [],
   "source": [
    "def build_rnn(cell, inputs):\n",
    "    \"\"\"\n",
    "    Create a RNN using a RNN Cell\n",
    "    :param cell: RNN Cell\n",
    "    :param inputs: Input text data\n",
    "    :return: Tuple (Outputs, Final State)\n",
    "    \"\"\"\n",
    "    # TODO: Implement Function\n",
    "    outputs, final_state = tf.nn.dynamic_rnn(cell, inputs, dtype=tf.float32)\n",
    "    final_state = tf.identity(final_state, name='final_state')\n",
    "    return outputs, final_state"
   ]
  },
  {
   "cell_type": "markdown",
   "metadata": {
    "deletable": true,
    "editable": true
   },
   "source": [
    "## Build the Neural Network"
   ]
  },
  {
   "cell_type": "code",
   "execution_count": 7,
   "metadata": {
    "collapsed": true,
    "deletable": true,
    "editable": true
   },
   "outputs": [],
   "source": [
    "def build_nn(cell, rnn_size, input_data, vocab_size, embed_dim):\n",
    "    \"\"\"\n",
    "    Build part of the neural network\n",
    "    :param cell: RNN cell\n",
    "    :param rnn_size: Size of rnns\n",
    "    :param input_data: Input data\n",
    "    :param vocab_size: Vocabulary size\n",
    "    :param embed_dim: Number of embedding dimensions\n",
    "    :return: Tuple (Logits, FinalState)\n",
    "    \"\"\"\n",
    "    # TODO: Implement Function\n",
    "    \n",
    "    #Apply embedding to input\n",
    "    embeddings = get_embed(input_data, vocab_size, embed_dim)\n",
    "    \n",
    "    #Build RNN\n",
    "    output, final_state = build_rnn(cell, embeddings)\n",
    "    \n",
    "    \n",
    "    # add fully connected layer \n",
    "    # Setting activation function as None will implement a linear activation function\n",
    "    \n",
    "    #weights and biases\n",
    "    weights = tf.truncated_normal_initializer(mean=0.0, stddev=0.1)\n",
    "    biases = tf.zeros_initializer()\n",
    "    logits = tf.contrib.layers.fully_connected(output, \n",
    "                                               vocab_size, \n",
    "                                               activation_fn=None,\n",
    "                                               weights_initializer=weights,\n",
    "                                               biases_initializer=biases)\n",
    "    \n",
    "    return logits, final_state"
   ]
  },
  {
   "cell_type": "markdown",
   "metadata": {
    "deletable": true,
    "editable": true
   },
   "source": [
    "## Batches"
   ]
  },
  {
   "cell_type": "markdown",
   "metadata": {
    "deletable": true,
    "editable": true
   },
   "source": [
    "For exmple, get_batches([1, 2, 3, 4, 5, 6, 7, 8, 9, 10, 11, 12, 13, 14, 15, 16, 17, 18, 19, 20], 3, 2) would return a Numpy array of the following:\n",
    "```\n",
    "[\n",
    "  #  First Batch\n",
    "  [\n",
    "    # Batch of Input\n",
    "    [[ 1  2], [ 7  8], [13 14]]\n",
    "    # Batch of targets\n",
    "    [[ 2  3], [ 8  9], [14 15]]\n",
    "  ]\n",
    "\n",
    "  # Second Batch\n",
    "  [\n",
    "    # Batch of Input\n",
    "    [[ 3  4], [ 9 10], [15 16]]\n",
    "    # Batch of targets\n",
    "    [[ 4  5], [10 11], [16 17]]\n",
    "  ]\n",
    "\n",
    "  # Third Batch\n",
    "  [\n",
    "    # Batch of Input\n",
    "    [[ 5  6], [11 12], [17 18]]\n",
    "    # Batch of targets\n",
    "    [[ 6  7], [12 13], [18  1]]\n",
    "  ]\n",
    "]\n",
    "```\n",
    "\n",
    "Notice that the last target value in the last batch is the first input value of the first batch. In this case, 1. This is a common technique used when creating sequence batches, although it is rather unintuitive.\n"
   ]
  },
  {
   "cell_type": "code",
   "execution_count": 8,
   "metadata": {
    "collapsed": true,
    "deletable": true,
    "editable": true
   },
   "outputs": [],
   "source": [
    "def get_batches(int_text, batch_size, seq_length):\n",
    "    \"\"\"\n",
    "    Return batches of input and target\n",
    "    :param int_text: Text with the words replaced by their ids\n",
    "    :param batch_size: The size of batch\n",
    "    :param seq_length: The length of sequence\n",
    "    :return: Batches as a Numpy array\n",
    "    \"\"\"\n",
    "    n_batches = int(len(int_text) / (batch_size * seq_length))\n",
    "    inputs = np.array(int_text[: n_batches * batch_size * seq_length])\n",
    "    outputs = np.array(int_text[1: n_batches * batch_size * seq_length + 1])\n",
    "\n",
    "    x = np.split(inputs.reshape(batch_size, -1), n_batches, 1)\n",
    "    y = np.split(outputs.reshape(batch_size, -1), n_batches, 1)\n",
    "\n",
    "    return np.array(list(zip(x, y)))"
   ]
  },
  {
   "cell_type": "markdown",
   "metadata": {
    "deletable": true,
    "editable": true
   },
   "source": [
    "## Neural Network Training"
   ]
  },
  {
   "cell_type": "markdown",
   "metadata": {
    "deletable": true,
    "editable": true
   },
   "source": [
    "### Hyperparameters"
   ]
  },
  {
   "cell_type": "markdown",
   "metadata": {
    "deletable": true,
    "editable": true
   },
   "source": [
    "Tune the following parameters:\n",
    "- Set num_epochs to the number of epochs.\n",
    "- Set batch_size to the batch size.\n",
    "- Set rnn_size to the size of the RNNs.\n",
    "- Set embed_dim to the size of the embedding.\n",
    "- Set seq_length to the length of sequence.\n",
    "- Set learning_rate to the learning rate.\n",
    "- Set show_every_n_batches to the number of batches the neural network should print progress."
   ]
  },
  {
   "cell_type": "code",
   "execution_count": 10,
   "metadata": {
    "collapsed": true,
    "deletable": true,
    "editable": true
   },
   "outputs": [],
   "source": [
    "# Number of Epochs\n",
    "num_epochs = 50\n",
    "# Batch Size\n",
    "batch_size = 256\n",
    "# RNN Size\n",
    "rnn_size = 512\n",
    "# Embedding Dimension Size\n",
    "embed_dim = 512\n",
    "# Sequence Length\n",
    "seq_length = 15\n",
    "# Learning Rate\n",
    "learning_rate = 0.006\n",
    "# Show stats for every n number of batches\n",
    "show_every_n_batches = 10\n",
    "#Keep probability\n",
    "keep_probability = 1\n",
    "\n",
    "save_dir = './save'"
   ]
  },
  {
   "cell_type": "markdown",
   "metadata": {
    "deletable": true,
    "editable": true
   },
   "source": [
    "## Build the graph"
   ]
  },
  {
   "cell_type": "code",
   "execution_count": 11,
   "metadata": {
    "collapsed": false,
    "deletable": true,
    "editable": true
   },
   "outputs": [],
   "source": [
    "from tensorflow.contrib import seq2seq\n",
    "\n",
    "train_graph = tf.Graph()\n",
    "with train_graph.as_default():\n",
    "    vocab_size = len(int_to_vocab)\n",
    "    input_text, targets, lr, keep_prob = get_inputs()\n",
    "    input_data_shape = tf.shape(input_text)\n",
    "    cell, initial_state = get_init_cell(input_data_shape[0], rnn_size, keep_prob)\n",
    "    logits, final_state = build_nn(cell, rnn_size, input_text, vocab_size, embed_dim)\n",
    "\n",
    "    # Probabilities for generating words\n",
    "    probs = tf.nn.softmax(logits, name='probs')\n",
    "\n",
    "    # Loss function\n",
    "    cost = seq2seq.sequence_loss(\n",
    "        logits,\n",
    "        targets,\n",
    "        tf.ones([input_data_shape[0], input_data_shape[1]]))\n",
    "\n",
    "    # Optimizer\n",
    "    optimizer = tf.train.AdamOptimizer(lr)\n",
    "\n",
    "    # Gradient Clipping\n",
    "    gradients = optimizer.compute_gradients(cost)\n",
    "    capped_gradients = [(tf.clip_by_value(grad, -1., 1.), var) for grad, var in gradients if grad is not None]\n",
    "    train_op = optimizer.apply_gradients(capped_gradients)"
   ]
  },
  {
   "cell_type": "markdown",
   "metadata": {
    "deletable": true,
    "editable": true
   },
   "source": [
    "## Training"
   ]
  },
  {
   "cell_type": "code",
   "execution_count": 12,
   "metadata": {
    "collapsed": false,
    "deletable": true,
    "editable": true
   },
   "outputs": [
    {
     "name": "stdout",
     "output_type": "stream",
     "text": [
      "Epoch   0 Batch    0/95   train_loss = 10.037\n",
      "Epoch   0 Batch   10/95   train_loss = 6.411\n",
      "Epoch   0 Batch   20/95   train_loss = 5.966\n",
      "Epoch   0 Batch   30/95   train_loss = 5.665\n",
      "Epoch   0 Batch   40/95   train_loss = 5.534\n",
      "Epoch   0 Batch   50/95   train_loss = 5.328\n",
      "Epoch   0 Batch   60/95   train_loss = 5.256\n",
      "Epoch   0 Batch   70/95   train_loss = 5.213\n",
      "Epoch   0 Batch   80/95   train_loss = 5.139\n",
      "Epoch   0 Batch   90/95   train_loss = 4.952\n",
      "Epoch   1 Batch    5/95   train_loss = 4.738\n",
      "Epoch   1 Batch   15/95   train_loss = 4.587\n",
      "Epoch   1 Batch   25/95   train_loss = 4.399\n",
      "Epoch   1 Batch   35/95   train_loss = 4.410\n",
      "Epoch   1 Batch   45/95   train_loss = 4.159\n",
      "Epoch   1 Batch   55/95   train_loss = 4.174\n",
      "Epoch   1 Batch   65/95   train_loss = 4.040\n",
      "Epoch   1 Batch   75/95   train_loss = 4.087\n",
      "Epoch   1 Batch   85/95   train_loss = 4.104\n",
      "Epoch   2 Batch    0/95   train_loss = 3.783\n",
      "Epoch   2 Batch   10/95   train_loss = 3.759\n",
      "Epoch   2 Batch   20/95   train_loss = 3.749\n",
      "Epoch   2 Batch   30/95   train_loss = 3.621\n",
      "Epoch   2 Batch   40/95   train_loss = 3.553\n",
      "Epoch   2 Batch   50/95   train_loss = 3.421\n",
      "Epoch   2 Batch   60/95   train_loss = 3.311\n",
      "Epoch   2 Batch   70/95   train_loss = 3.205\n",
      "Epoch   2 Batch   80/95   train_loss = 3.218\n",
      "Epoch   2 Batch   90/95   train_loss = 3.204\n",
      "Epoch   3 Batch    5/95   train_loss = 3.172\n",
      "Epoch   3 Batch   15/95   train_loss = 3.170\n",
      "Epoch   3 Batch   25/95   train_loss = 2.994\n",
      "Epoch   3 Batch   35/95   train_loss = 2.912\n",
      "Epoch   3 Batch   45/95   train_loss = 2.822\n",
      "Epoch   3 Batch   55/95   train_loss = 2.749\n",
      "Epoch   3 Batch   65/95   train_loss = 2.732\n",
      "Epoch   3 Batch   75/95   train_loss = 2.759\n",
      "Epoch   3 Batch   85/95   train_loss = 2.751\n",
      "Epoch   4 Batch    0/95   train_loss = 2.585\n",
      "Epoch   4 Batch   10/95   train_loss = 2.616\n",
      "Epoch   4 Batch   20/95   train_loss = 2.648\n",
      "Epoch   4 Batch   30/95   train_loss = 2.614\n",
      "Epoch   4 Batch   40/95   train_loss = 2.537\n",
      "Epoch   4 Batch   50/95   train_loss = 2.439\n",
      "Epoch   4 Batch   60/95   train_loss = 2.394\n",
      "Epoch   4 Batch   70/95   train_loss = 2.242\n",
      "Epoch   4 Batch   80/95   train_loss = 2.312\n",
      "Epoch   4 Batch   90/95   train_loss = 2.326\n",
      "Epoch   5 Batch    5/95   train_loss = 2.255\n",
      "Epoch   5 Batch   15/95   train_loss = 2.301\n",
      "Epoch   5 Batch   25/95   train_loss = 2.202\n",
      "Epoch   5 Batch   35/95   train_loss = 2.136\n",
      "Epoch   5 Batch   45/95   train_loss = 2.094\n",
      "Epoch   5 Batch   55/95   train_loss = 2.022\n",
      "Epoch   5 Batch   65/95   train_loss = 2.058\n",
      "Epoch   5 Batch   75/95   train_loss = 2.026\n",
      "Epoch   5 Batch   85/95   train_loss = 2.024\n",
      "Epoch   6 Batch    0/95   train_loss = 1.945\n",
      "Epoch   6 Batch   10/95   train_loss = 1.949\n",
      "Epoch   6 Batch   20/95   train_loss = 1.953\n",
      "Epoch   6 Batch   30/95   train_loss = 1.971\n",
      "Epoch   6 Batch   40/95   train_loss = 1.919\n",
      "Epoch   6 Batch   50/95   train_loss = 1.852\n",
      "Epoch   6 Batch   60/95   train_loss = 1.787\n",
      "Epoch   6 Batch   70/95   train_loss = 1.707\n",
      "Epoch   6 Batch   80/95   train_loss = 1.775\n",
      "Epoch   6 Batch   90/95   train_loss = 1.795\n",
      "Epoch   7 Batch    5/95   train_loss = 1.690\n",
      "Epoch   7 Batch   15/95   train_loss = 1.769\n",
      "Epoch   7 Batch   25/95   train_loss = 1.676\n",
      "Epoch   7 Batch   35/95   train_loss = 1.657\n",
      "Epoch   7 Batch   45/95   train_loss = 1.628\n",
      "Epoch   7 Batch   55/95   train_loss = 1.601\n",
      "Epoch   7 Batch   65/95   train_loss = 1.629\n",
      "Epoch   7 Batch   75/95   train_loss = 1.597\n",
      "Epoch   7 Batch   85/95   train_loss = 1.562\n",
      "Epoch   8 Batch    0/95   train_loss = 1.520\n",
      "Epoch   8 Batch   10/95   train_loss = 1.564\n",
      "Epoch   8 Batch   20/95   train_loss = 1.537\n",
      "Epoch   8 Batch   30/95   train_loss = 1.529\n",
      "Epoch   8 Batch   40/95   train_loss = 1.515\n",
      "Epoch   8 Batch   50/95   train_loss = 1.500\n",
      "Epoch   8 Batch   60/95   train_loss = 1.433\n",
      "Epoch   8 Batch   70/95   train_loss = 1.380\n",
      "Epoch   8 Batch   80/95   train_loss = 1.412\n",
      "Epoch   8 Batch   90/95   train_loss = 1.465\n",
      "Epoch   9 Batch    5/95   train_loss = 1.370\n",
      "Epoch   9 Batch   15/95   train_loss = 1.433\n",
      "Epoch   9 Batch   25/95   train_loss = 1.351\n",
      "Epoch   9 Batch   35/95   train_loss = 1.328\n",
      "Epoch   9 Batch   45/95   train_loss = 1.297\n",
      "Epoch   9 Batch   55/95   train_loss = 1.281\n",
      "Epoch   9 Batch   65/95   train_loss = 1.354\n",
      "Epoch   9 Batch   75/95   train_loss = 1.289\n",
      "Epoch   9 Batch   85/95   train_loss = 1.277\n",
      "Epoch  10 Batch    0/95   train_loss = 1.267\n",
      "Epoch  10 Batch   10/95   train_loss = 1.287\n",
      "Epoch  10 Batch   20/95   train_loss = 1.277\n",
      "Epoch  10 Batch   30/95   train_loss = 1.265\n",
      "Epoch  10 Batch   40/95   train_loss = 1.239\n",
      "Epoch  10 Batch   50/95   train_loss = 1.221\n",
      "Epoch  10 Batch   60/95   train_loss = 1.198\n",
      "Epoch  10 Batch   70/95   train_loss = 1.152\n",
      "Epoch  10 Batch   80/95   train_loss = 1.197\n",
      "Epoch  10 Batch   90/95   train_loss = 1.222\n",
      "Epoch  11 Batch    5/95   train_loss = 1.138\n",
      "Epoch  11 Batch   15/95   train_loss = 1.203\n",
      "Epoch  11 Batch   25/95   train_loss = 1.117\n",
      "Epoch  11 Batch   35/95   train_loss = 1.122\n",
      "Epoch  11 Batch   45/95   train_loss = 1.095\n",
      "Epoch  11 Batch   55/95   train_loss = 1.085\n",
      "Epoch  11 Batch   65/95   train_loss = 1.140\n",
      "Epoch  11 Batch   75/95   train_loss = 1.116\n",
      "Epoch  11 Batch   85/95   train_loss = 1.076\n",
      "Epoch  12 Batch    0/95   train_loss = 1.090\n",
      "Epoch  12 Batch   10/95   train_loss = 1.086\n",
      "Epoch  12 Batch   20/95   train_loss = 1.066\n",
      "Epoch  12 Batch   30/95   train_loss = 1.073\n",
      "Epoch  12 Batch   40/95   train_loss = 1.052\n",
      "Epoch  12 Batch   50/95   train_loss = 1.035\n",
      "Epoch  12 Batch   60/95   train_loss = 1.038\n",
      "Epoch  12 Batch   70/95   train_loss = 0.955\n",
      "Epoch  12 Batch   80/95   train_loss = 0.998\n",
      "Epoch  12 Batch   90/95   train_loss = 1.022\n",
      "Epoch  13 Batch    5/95   train_loss = 0.987\n",
      "Epoch  13 Batch   15/95   train_loss = 1.030\n",
      "Epoch  13 Batch   25/95   train_loss = 0.947\n",
      "Epoch  13 Batch   35/95   train_loss = 0.951\n",
      "Epoch  13 Batch   45/95   train_loss = 0.935\n",
      "Epoch  13 Batch   55/95   train_loss = 0.926\n",
      "Epoch  13 Batch   65/95   train_loss = 1.006\n",
      "Epoch  13 Batch   75/95   train_loss = 0.953\n",
      "Epoch  13 Batch   85/95   train_loss = 0.932\n",
      "Epoch  14 Batch    0/95   train_loss = 0.941\n",
      "Epoch  14 Batch   10/95   train_loss = 0.934\n",
      "Epoch  14 Batch   20/95   train_loss = 0.915\n",
      "Epoch  14 Batch   30/95   train_loss = 0.927\n",
      "Epoch  14 Batch   40/95   train_loss = 0.907\n",
      "Epoch  14 Batch   50/95   train_loss = 0.899\n",
      "Epoch  14 Batch   60/95   train_loss = 0.879\n",
      "Epoch  14 Batch   70/95   train_loss = 0.829\n",
      "Epoch  14 Batch   80/95   train_loss = 0.865\n",
      "Epoch  14 Batch   90/95   train_loss = 0.875\n",
      "Epoch  15 Batch    5/95   train_loss = 0.824\n",
      "Epoch  15 Batch   15/95   train_loss = 0.897\n",
      "Epoch  15 Batch   25/95   train_loss = 0.836\n",
      "Epoch  15 Batch   35/95   train_loss = 0.825\n",
      "Epoch  15 Batch   45/95   train_loss = 0.802\n",
      "Epoch  15 Batch   55/95   train_loss = 0.803\n",
      "Epoch  15 Batch   65/95   train_loss = 0.871\n",
      "Epoch  15 Batch   75/95   train_loss = 0.822\n",
      "Epoch  15 Batch   85/95   train_loss = 0.785\n",
      "Epoch  16 Batch    0/95   train_loss = 0.834\n",
      "Epoch  16 Batch   10/95   train_loss = 0.808\n",
      "Epoch  16 Batch   20/95   train_loss = 0.805\n",
      "Epoch  16 Batch   30/95   train_loss = 0.810\n",
      "Epoch  16 Batch   40/95   train_loss = 0.780\n",
      "Epoch  16 Batch   50/95   train_loss = 0.785\n",
      "Epoch  16 Batch   60/95   train_loss = 0.779\n",
      "Epoch  16 Batch   70/95   train_loss = 0.724\n",
      "Epoch  16 Batch   80/95   train_loss = 0.771\n",
      "Epoch  16 Batch   90/95   train_loss = 0.770\n",
      "Epoch  17 Batch    5/95   train_loss = 0.747\n",
      "Epoch  17 Batch   15/95   train_loss = 0.793\n",
      "Epoch  17 Batch   25/95   train_loss = 0.731\n",
      "Epoch  17 Batch   35/95   train_loss = 0.730\n",
      "Epoch  17 Batch   45/95   train_loss = 0.719\n",
      "Epoch  17 Batch   55/95   train_loss = 0.723\n",
      "Epoch  17 Batch   65/95   train_loss = 0.727\n",
      "Epoch  17 Batch   75/95   train_loss = 0.733\n",
      "Epoch  17 Batch   85/95   train_loss = 0.704\n",
      "Epoch  18 Batch    0/95   train_loss = 0.732\n",
      "Epoch  18 Batch   10/95   train_loss = 0.728\n",
      "Epoch  18 Batch   20/95   train_loss = 0.710\n",
      "Epoch  18 Batch   30/95   train_loss = 0.699\n",
      "Epoch  18 Batch   40/95   train_loss = 0.671\n",
      "Epoch  18 Batch   50/95   train_loss = 0.699\n",
      "Epoch  18 Batch   60/95   train_loss = 0.697\n",
      "Epoch  18 Batch   70/95   train_loss = 0.628\n",
      "Epoch  18 Batch   80/95   train_loss = 0.679\n",
      "Epoch  18 Batch   90/95   train_loss = 0.686\n",
      "Epoch  19 Batch    5/95   train_loss = 0.654\n",
      "Epoch  19 Batch   15/95   train_loss = 0.693\n",
      "Epoch  19 Batch   25/95   train_loss = 0.637\n",
      "Epoch  19 Batch   35/95   train_loss = 0.638\n",
      "Epoch  19 Batch   45/95   train_loss = 0.624\n",
      "Epoch  19 Batch   55/95   train_loss = 0.633\n",
      "Epoch  19 Batch   65/95   train_loss = 0.675\n",
      "Epoch  19 Batch   75/95   train_loss = 0.636\n",
      "Epoch  19 Batch   85/95   train_loss = 0.631\n",
      "Epoch  20 Batch    0/95   train_loss = 0.656\n",
      "Epoch  20 Batch   10/95   train_loss = 0.639\n",
      "Epoch  20 Batch   20/95   train_loss = 0.612\n",
      "Epoch  20 Batch   30/95   train_loss = 0.641\n",
      "Epoch  20 Batch   40/95   train_loss = 0.608\n",
      "Epoch  20 Batch   50/95   train_loss = 0.618\n",
      "Epoch  20 Batch   60/95   train_loss = 0.610\n",
      "Epoch  20 Batch   70/95   train_loss = 0.563\n",
      "Epoch  20 Batch   80/95   train_loss = 0.613\n",
      "Epoch  20 Batch   90/95   train_loss = 0.604\n",
      "Epoch  21 Batch    5/95   train_loss = 0.594\n",
      "Epoch  21 Batch   15/95   train_loss = 0.635\n",
      "Epoch  21 Batch   25/95   train_loss = 0.573\n",
      "Epoch  21 Batch   35/95   train_loss = 0.586\n",
      "Epoch  21 Batch   45/95   train_loss = 0.561\n",
      "Epoch  21 Batch   55/95   train_loss = 0.561\n",
      "Epoch  21 Batch   65/95   train_loss = 0.605\n",
      "Epoch  21 Batch   75/95   train_loss = 0.588\n",
      "Epoch  21 Batch   85/95   train_loss = 0.585\n",
      "Epoch  22 Batch    0/95   train_loss = 0.597\n",
      "Epoch  22 Batch   10/95   train_loss = 0.595\n",
      "Epoch  22 Batch   20/95   train_loss = 0.559\n",
      "Epoch  22 Batch   30/95   train_loss = 0.598\n",
      "Epoch  22 Batch   40/95   train_loss = 0.562\n",
      "Epoch  22 Batch   50/95   train_loss = 0.561\n",
      "Epoch  22 Batch   60/95   train_loss = 0.577\n",
      "Epoch  22 Batch   70/95   train_loss = 0.497\n",
      "Epoch  22 Batch   80/95   train_loss = 0.564\n",
      "Epoch  22 Batch   90/95   train_loss = 0.564\n",
      "Epoch  23 Batch    5/95   train_loss = 0.541\n",
      "Epoch  23 Batch   15/95   train_loss = 0.580\n",
      "Epoch  23 Batch   25/95   train_loss = 0.527\n",
      "Epoch  23 Batch   35/95   train_loss = 0.546\n",
      "Epoch  23 Batch   45/95   train_loss = 0.535\n",
      "Epoch  23 Batch   55/95   train_loss = 0.519\n",
      "Epoch  23 Batch   65/95   train_loss = 0.553\n",
      "Epoch  23 Batch   75/95   train_loss = 0.547\n",
      "Epoch  23 Batch   85/95   train_loss = 0.536\n",
      "Epoch  24 Batch    0/95   train_loss = 0.553\n",
      "Epoch  24 Batch   10/95   train_loss = 0.540\n",
      "Epoch  24 Batch   20/95   train_loss = 0.516\n",
      "Epoch  24 Batch   30/95   train_loss = 0.556\n",
      "Epoch  24 Batch   40/95   train_loss = 0.537\n",
      "Epoch  24 Batch   50/95   train_loss = 0.524\n",
      "Epoch  24 Batch   60/95   train_loss = 0.539\n",
      "Epoch  24 Batch   70/95   train_loss = 0.469\n",
      "Epoch  24 Batch   80/95   train_loss = 0.520\n",
      "Epoch  24 Batch   90/95   train_loss = 0.511\n",
      "Epoch  25 Batch    5/95   train_loss = 0.501\n",
      "Epoch  25 Batch   15/95   train_loss = 0.551\n",
      "Epoch  25 Batch   25/95   train_loss = 0.497\n",
      "Epoch  25 Batch   35/95   train_loss = 0.522\n",
      "Epoch  25 Batch   45/95   train_loss = 0.510\n",
      "Epoch  25 Batch   55/95   train_loss = 0.495\n",
      "Epoch  25 Batch   65/95   train_loss = 0.528\n",
      "Epoch  25 Batch   75/95   train_loss = 0.520\n",
      "Epoch  25 Batch   85/95   train_loss = 0.511\n",
      "Epoch  26 Batch    0/95   train_loss = 0.536\n",
      "Epoch  26 Batch   10/95   train_loss = 0.516\n",
      "Epoch  26 Batch   20/95   train_loss = 0.491\n",
      "Epoch  26 Batch   30/95   train_loss = 0.522\n",
      "Epoch  26 Batch   40/95   train_loss = 0.504\n",
      "Epoch  26 Batch   50/95   train_loss = 0.492\n",
      "Epoch  26 Batch   60/95   train_loss = 0.522\n",
      "Epoch  26 Batch   70/95   train_loss = 0.454\n",
      "Epoch  26 Batch   80/95   train_loss = 0.503\n",
      "Epoch  26 Batch   90/95   train_loss = 0.506\n",
      "Epoch  27 Batch    5/95   train_loss = 0.495\n",
      "Epoch  27 Batch   15/95   train_loss = 0.529\n",
      "Epoch  27 Batch   25/95   train_loss = 0.482\n",
      "Epoch  27 Batch   35/95   train_loss = 0.497\n",
      "Epoch  27 Batch   45/95   train_loss = 0.493\n",
      "Epoch  27 Batch   55/95   train_loss = 0.493\n",
      "Epoch  27 Batch   65/95   train_loss = 0.519\n",
      "Epoch  27 Batch   75/95   train_loss = 0.502\n",
      "Epoch  27 Batch   85/95   train_loss = 0.500\n",
      "Epoch  28 Batch    0/95   train_loss = 0.530\n",
      "Epoch  28 Batch   10/95   train_loss = 0.517\n",
      "Epoch  28 Batch   20/95   train_loss = 0.497\n",
      "Epoch  28 Batch   30/95   train_loss = 0.527\n",
      "Epoch  28 Batch   40/95   train_loss = 0.499\n",
      "Epoch  28 Batch   50/95   train_loss = 0.507\n",
      "Epoch  28 Batch   60/95   train_loss = 0.514\n",
      "Epoch  28 Batch   70/95   train_loss = 0.450\n",
      "Epoch  28 Batch   80/95   train_loss = 0.511\n",
      "Epoch  28 Batch   90/95   train_loss = 0.498\n",
      "Epoch  29 Batch    5/95   train_loss = 0.500\n",
      "Epoch  29 Batch   15/95   train_loss = 0.535\n",
      "Epoch  29 Batch   25/95   train_loss = 0.489\n",
      "Epoch  29 Batch   35/95   train_loss = 0.508\n",
      "Epoch  29 Batch   45/95   train_loss = 0.514\n",
      "Epoch  29 Batch   55/95   train_loss = 0.508\n",
      "Epoch  29 Batch   65/95   train_loss = 0.544\n",
      "Epoch  29 Batch   75/95   train_loss = 0.537\n",
      "Epoch  29 Batch   85/95   train_loss = 0.525\n",
      "Epoch  30 Batch    0/95   train_loss = 0.560\n",
      "Epoch  30 Batch   10/95   train_loss = 0.562\n",
      "Epoch  30 Batch   20/95   train_loss = 0.542\n",
      "Epoch  30 Batch   30/95   train_loss = 0.573\n",
      "Epoch  30 Batch   40/95   train_loss = 0.562\n",
      "Epoch  30 Batch   50/95   train_loss = 0.575\n",
      "Epoch  30 Batch   60/95   train_loss = 0.575\n",
      "Epoch  30 Batch   70/95   train_loss = 0.515\n",
      "Epoch  30 Batch   80/95   train_loss = 0.586\n",
      "Epoch  30 Batch   90/95   train_loss = 0.557\n",
      "Epoch  31 Batch    5/95   train_loss = 0.573\n",
      "Epoch  31 Batch   15/95   train_loss = 0.625\n",
      "Epoch  31 Batch   25/95   train_loss = 0.586\n",
      "Epoch  31 Batch   35/95   train_loss = 0.621\n",
      "Epoch  31 Batch   45/95   train_loss = 0.603\n",
      "Epoch  31 Batch   55/95   train_loss = 0.627\n",
      "Epoch  31 Batch   65/95   train_loss = 0.663\n",
      "Epoch  31 Batch   75/95   train_loss = 0.675\n",
      "Epoch  31 Batch   85/95   train_loss = 0.666\n",
      "Epoch  32 Batch    0/95   train_loss = 0.692\n",
      "Epoch  32 Batch   10/95   train_loss = 0.698\n",
      "Epoch  32 Batch   20/95   train_loss = 0.707\n",
      "Epoch  32 Batch   30/95   train_loss = 0.735\n",
      "Epoch  32 Batch   40/95   train_loss = 0.742\n",
      "Epoch  32 Batch   50/95   train_loss = 0.738\n",
      "Epoch  32 Batch   60/95   train_loss = 0.757\n",
      "Epoch  32 Batch   70/95   train_loss = 0.708\n",
      "Epoch  32 Batch   80/95   train_loss = 0.793\n",
      "Epoch  32 Batch   90/95   train_loss = 0.785\n",
      "Epoch  33 Batch    5/95   train_loss = 0.776\n",
      "Epoch  33 Batch   15/95   train_loss = 0.848\n",
      "Epoch  33 Batch   25/95   train_loss = 0.793\n",
      "Epoch  33 Batch   35/95   train_loss = 0.818\n",
      "Epoch  33 Batch   45/95   train_loss = 0.827\n",
      "Epoch  33 Batch   55/95   train_loss = 0.851\n",
      "Epoch  33 Batch   65/95   train_loss = 0.864\n",
      "Epoch  33 Batch   75/95   train_loss = 0.890\n",
      "Epoch  33 Batch   85/95   train_loss = 0.872\n",
      "Epoch  34 Batch    0/95   train_loss = 0.886\n",
      "Epoch  34 Batch   10/95   train_loss = 0.890\n",
      "Epoch  34 Batch   20/95   train_loss = 0.869\n",
      "Epoch  34 Batch   30/95   train_loss = 0.865\n",
      "Epoch  34 Batch   40/95   train_loss = 0.888\n",
      "Epoch  34 Batch   50/95   train_loss = 0.835\n",
      "Epoch  34 Batch   60/95   train_loss = 0.871\n",
      "Epoch  34 Batch   70/95   train_loss = 0.783\n",
      "Epoch  34 Batch   80/95   train_loss = 0.843\n",
      "Epoch  34 Batch   90/95   train_loss = 0.823\n",
      "Epoch  35 Batch    5/95   train_loss = 0.815\n",
      "Epoch  35 Batch   15/95   train_loss = 0.868\n",
      "Epoch  35 Batch   25/95   train_loss = 0.777\n",
      "Epoch  35 Batch   35/95   train_loss = 0.775\n",
      "Epoch  35 Batch   45/95   train_loss = 0.775\n",
      "Epoch  35 Batch   55/95   train_loss = 0.785\n",
      "Epoch  35 Batch   65/95   train_loss = 0.779\n",
      "Epoch  35 Batch   75/95   train_loss = 0.778\n",
      "Epoch  35 Batch   85/95   train_loss = 0.758\n",
      "Epoch  36 Batch    0/95   train_loss = 0.790\n",
      "Epoch  36 Batch   10/95   train_loss = 0.748\n",
      "Epoch  36 Batch   20/95   train_loss = 0.727\n",
      "Epoch  36 Batch   30/95   train_loss = 0.746\n",
      "Epoch  36 Batch   40/95   train_loss = 0.732\n",
      "Epoch  36 Batch   50/95   train_loss = 0.707\n",
      "Epoch  36 Batch   60/95   train_loss = 0.716\n",
      "Epoch  36 Batch   70/95   train_loss = 0.616\n",
      "Epoch  36 Batch   80/95   train_loss = 0.660\n",
      "Epoch  36 Batch   90/95   train_loss = 0.644\n",
      "Epoch  37 Batch    5/95   train_loss = 0.634\n",
      "Epoch  37 Batch   15/95   train_loss = 0.691\n",
      "Epoch  37 Batch   25/95   train_loss = 0.614\n",
      "Epoch  37 Batch   35/95   train_loss = 0.624\n",
      "Epoch  37 Batch   45/95   train_loss = 0.612\n",
      "Epoch  37 Batch   55/95   train_loss = 0.604\n",
      "Epoch  37 Batch   65/95   train_loss = 0.615\n",
      "Epoch  37 Batch   75/95   train_loss = 0.600\n",
      "Epoch  37 Batch   85/95   train_loss = 0.576\n",
      "Epoch  38 Batch    0/95   train_loss = 0.591\n",
      "Epoch  38 Batch   10/95   train_loss = 0.580\n",
      "Epoch  38 Batch   20/95   train_loss = 0.537\n",
      "Epoch  38 Batch   30/95   train_loss = 0.566\n",
      "Epoch  38 Batch   40/95   train_loss = 0.551\n",
      "Epoch  38 Batch   50/95   train_loss = 0.531\n",
      "Epoch  38 Batch   60/95   train_loss = 0.530\n",
      "Epoch  38 Batch   70/95   train_loss = 0.475\n",
      "Epoch  38 Batch   80/95   train_loss = 0.515\n",
      "Epoch  38 Batch   90/95   train_loss = 0.498\n",
      "Epoch  39 Batch    5/95   train_loss = 0.490\n",
      "Epoch  39 Batch   15/95   train_loss = 0.531\n",
      "Epoch  39 Batch   25/95   train_loss = 0.465\n",
      "Epoch  39 Batch   35/95   train_loss = 0.476\n",
      "Epoch  39 Batch   45/95   train_loss = 0.478\n",
      "Epoch  39 Batch   55/95   train_loss = 0.457\n",
      "Epoch  39 Batch   65/95   train_loss = 0.492\n",
      "Epoch  39 Batch   75/95   train_loss = 0.473\n",
      "Epoch  39 Batch   85/95   train_loss = 0.450\n",
      "Epoch  40 Batch    0/95   train_loss = 0.483\n",
      "Epoch  40 Batch   10/95   train_loss = 0.462\n",
      "Epoch  40 Batch   20/95   train_loss = 0.438\n",
      "Epoch  40 Batch   30/95   train_loss = 0.461\n",
      "Epoch  40 Batch   40/95   train_loss = 0.434\n",
      "Epoch  40 Batch   50/95   train_loss = 0.428\n",
      "Epoch  40 Batch   60/95   train_loss = 0.448\n",
      "Epoch  40 Batch   70/95   train_loss = 0.377\n",
      "Epoch  40 Batch   80/95   train_loss = 0.429\n",
      "Epoch  40 Batch   90/95   train_loss = 0.404\n",
      "Epoch  41 Batch    5/95   train_loss = 0.410\n",
      "Epoch  41 Batch   15/95   train_loss = 0.437\n",
      "Epoch  41 Batch   25/95   train_loss = 0.384\n",
      "Epoch  41 Batch   35/95   train_loss = 0.411\n",
      "Epoch  41 Batch   45/95   train_loss = 0.394\n",
      "Epoch  41 Batch   55/95   train_loss = 0.388\n",
      "Epoch  41 Batch   65/95   train_loss = 0.422\n",
      "Epoch  41 Batch   75/95   train_loss = 0.415\n",
      "Epoch  41 Batch   85/95   train_loss = 0.392\n",
      "Epoch  42 Batch    0/95   train_loss = 0.423\n",
      "Epoch  42 Batch   10/95   train_loss = 0.395\n",
      "Epoch  42 Batch   20/95   train_loss = 0.381\n",
      "Epoch  42 Batch   30/95   train_loss = 0.412\n",
      "Epoch  42 Batch   40/95   train_loss = 0.390\n",
      "Epoch  42 Batch   50/95   train_loss = 0.375\n",
      "Epoch  42 Batch   60/95   train_loss = 0.402\n",
      "Epoch  42 Batch   70/95   train_loss = 0.342\n",
      "Epoch  42 Batch   80/95   train_loss = 0.399\n",
      "Epoch  42 Batch   90/95   train_loss = 0.366\n",
      "Epoch  43 Batch    5/95   train_loss = 0.372\n",
      "Epoch  43 Batch   15/95   train_loss = 0.401\n",
      "Epoch  43 Batch   25/95   train_loss = 0.357\n",
      "Epoch  43 Batch   35/95   train_loss = 0.391\n",
      "Epoch  43 Batch   45/95   train_loss = 0.366\n",
      "Epoch  43 Batch   55/95   train_loss = 0.358\n",
      "Epoch  43 Batch   65/95   train_loss = 0.388\n",
      "Epoch  43 Batch   75/95   train_loss = 0.388\n",
      "Epoch  43 Batch   85/95   train_loss = 0.372\n",
      "Epoch  44 Batch    0/95   train_loss = 0.398\n",
      "Epoch  44 Batch   10/95   train_loss = 0.376\n",
      "Epoch  44 Batch   20/95   train_loss = 0.360\n",
      "Epoch  44 Batch   30/95   train_loss = 0.394\n",
      "Epoch  44 Batch   40/95   train_loss = 0.374\n",
      "Epoch  44 Batch   50/95   train_loss = 0.359\n",
      "Epoch  44 Batch   60/95   train_loss = 0.386\n",
      "Epoch  44 Batch   70/95   train_loss = 0.329\n",
      "Epoch  44 Batch   80/95   train_loss = 0.384\n",
      "Epoch  44 Batch   90/95   train_loss = 0.356\n",
      "Epoch  45 Batch    5/95   train_loss = 0.363\n",
      "Epoch  45 Batch   15/95   train_loss = 0.387\n",
      "Epoch  45 Batch   25/95   train_loss = 0.349\n",
      "Epoch  45 Batch   35/95   train_loss = 0.382\n",
      "Epoch  45 Batch   45/95   train_loss = 0.356\n",
      "Epoch  45 Batch   55/95   train_loss = 0.349\n",
      "Epoch  45 Batch   65/95   train_loss = 0.376\n",
      "Epoch  45 Batch   75/95   train_loss = 0.381\n",
      "Epoch  45 Batch   85/95   train_loss = 0.366\n",
      "Epoch  46 Batch    0/95   train_loss = 0.392\n",
      "Epoch  46 Batch   10/95   train_loss = 0.368\n",
      "Epoch  46 Batch   20/95   train_loss = 0.352\n",
      "Epoch  46 Batch   30/95   train_loss = 0.392\n",
      "Epoch  46 Batch   40/95   train_loss = 0.367\n",
      "Epoch  46 Batch   50/95   train_loss = 0.353\n",
      "Epoch  46 Batch   60/95   train_loss = 0.377\n",
      "Epoch  46 Batch   70/95   train_loss = 0.316\n",
      "Epoch  46 Batch   80/95   train_loss = 0.378\n",
      "Epoch  46 Batch   90/95   train_loss = 0.350\n",
      "Epoch  47 Batch    5/95   train_loss = 0.359\n",
      "Epoch  47 Batch   15/95   train_loss = 0.379\n",
      "Epoch  47 Batch   25/95   train_loss = 0.339\n",
      "Epoch  47 Batch   35/95   train_loss = 0.373\n",
      "Epoch  47 Batch   45/95   train_loss = 0.353\n",
      "Epoch  47 Batch   55/95   train_loss = 0.343\n",
      "Epoch  47 Batch   65/95   train_loss = 0.374\n",
      "Epoch  47 Batch   75/95   train_loss = 0.374\n",
      "Epoch  47 Batch   85/95   train_loss = 0.360\n",
      "Epoch  48 Batch    0/95   train_loss = 0.387\n",
      "Epoch  48 Batch   10/95   train_loss = 0.369\n",
      "Epoch  48 Batch   20/95   train_loss = 0.347\n",
      "Epoch  48 Batch   30/95   train_loss = 0.382\n",
      "Epoch  48 Batch   40/95   train_loss = 0.363\n",
      "Epoch  48 Batch   50/95   train_loss = 0.351\n",
      "Epoch  48 Batch   60/95   train_loss = 0.376\n",
      "Epoch  48 Batch   70/95   train_loss = 0.311\n",
      "Epoch  48 Batch   80/95   train_loss = 0.371\n",
      "Epoch  48 Batch   90/95   train_loss = 0.347\n",
      "Epoch  49 Batch    5/95   train_loss = 0.358\n",
      "Epoch  49 Batch   15/95   train_loss = 0.375\n",
      "Epoch  49 Batch   25/95   train_loss = 0.339\n",
      "Epoch  49 Batch   35/95   train_loss = 0.368\n",
      "Epoch  49 Batch   45/95   train_loss = 0.346\n",
      "Epoch  49 Batch   55/95   train_loss = 0.339\n",
      "Epoch  49 Batch   65/95   train_loss = 0.372\n",
      "Epoch  49 Batch   75/95   train_loss = 0.369\n",
      "Epoch  49 Batch   85/95   train_loss = 0.356\n",
      "Model Trained and Saved\n"
     ]
    }
   ],
   "source": [
    "batches = get_batches(int_text, batch_size, seq_length)\n",
    "\n",
    "with tf.Session(graph=train_graph) as sess:\n",
    "    sess.run(tf.global_variables_initializer())\n",
    "\n",
    "    for epoch_i in range(num_epochs):\n",
    "        state = sess.run(initial_state, {input_text: batches[0][0]})\n",
    "\n",
    "        for batch_i, (x, y) in enumerate(batches):\n",
    "            feed = {\n",
    "                input_text: x,\n",
    "                targets: y,\n",
    "                initial_state: state,\n",
    "                lr: learning_rate,\n",
    "                keep_prob: keep_probability\n",
    "            }\n",
    "            train_loss, state, _ = sess.run([cost, final_state, train_op], feed)\n",
    "\n",
    "            # Show every <show_every_n_batches> batches\n",
    "            if (epoch_i * len(batches) + batch_i) % show_every_n_batches == 0:\n",
    "                print('Epoch {:>3} Batch {:>4}/{}   train_loss = {:.3f}'.format(\n",
    "                    epoch_i,\n",
    "                    batch_i,\n",
    "                    len(batches),\n",
    "                    train_loss))\n",
    "\n",
    "    # Save Model\n",
    "    saver = tf.train.Saver()\n",
    "    saver.save(sess, save_dir)\n",
    "    print('Model Trained and Saved')"
   ]
  },
  {
   "cell_type": "markdown",
   "metadata": {
    "collapsed": true,
    "deletable": true,
    "editable": true
   },
   "source": [
    "## Save Parameters\n",
    "\n",
    "Save seq_length and save_dir for generating a new Velmax Thread"
   ]
  },
  {
   "cell_type": "code",
   "execution_count": 13,
   "metadata": {
    "collapsed": true,
    "deletable": true,
    "editable": true
   },
   "outputs": [],
   "source": [
    "# Save parameters for checkpoint\n",
    "helper.save_params((seq_length, save_dir))"
   ]
  },
  {
   "cell_type": "markdown",
   "metadata": {
    "deletable": true,
    "editable": true
   },
   "source": [
    "## Checkpoint"
   ]
  },
  {
   "cell_type": "code",
   "execution_count": 14,
   "metadata": {
    "collapsed": false,
    "deletable": true,
    "editable": true
   },
   "outputs": [],
   "source": [
    "import tensorflow as tf\n",
    "import numpy as np\n",
    "import helper\n",
    "\n",
    "_, vocab_to_int, int_to_vocab, token_dict = helper.load_preprocess()\n",
    "seq_length, load_dir = helper.load_params()"
   ]
  },
  {
   "cell_type": "markdown",
   "metadata": {
    "deletable": true,
    "editable": true
   },
   "source": [
    "## Implement Generate Functions"
   ]
  },
  {
   "cell_type": "markdown",
   "metadata": {
    "deletable": true,
    "editable": true
   },
   "source": [
    "### Get Tensors\n",
    "\n",
    "Get tensors from loaded_graph using the function get_tensor_by_name(). Get the tensors using the following names:\n",
    "- \"input:0\"\n",
    "- \"initial_state:0\"\n",
    "- \"final_state:0\"\n",
    "- \"probs:0\""
   ]
  },
  {
   "cell_type": "code",
   "execution_count": 15,
   "metadata": {
    "collapsed": true,
    "deletable": true,
    "editable": true
   },
   "outputs": [],
   "source": [
    "def get_tensors(loaded_graph):\n",
    "    \"\"\"\n",
    "    Get input, initial state, final state, and probabilities tensor from <loaded_graph>\n",
    "    :param loaded_graph: TensorFlow graph loaded from file\n",
    "    :return: Tuple (InputTensor, InitialStateTensor, FinalStateTensor, ProbsTensor)\n",
    "    \"\"\"\n",
    "    # TODO: Implement Function\n",
    "    inputs = loaded_graph.get_tensor_by_name(\"input:0\")\n",
    "    initial_state = loaded_graph.get_tensor_by_name(\"initial_state:0\")\n",
    "    final_state = loaded_graph.get_tensor_by_name(\"final_state:0\")\n",
    "    probs = loaded_graph.get_tensor_by_name(\"probs:0\")\n",
    "    keep_prob = loaded_graph.get_tensor_by_name(\"keep_prob:0\")\n",
    "    return inputs, initial_state, final_state, probs, keep_prob"
   ]
  },
  {
   "cell_type": "markdown",
   "metadata": {
    "deletable": true,
    "editable": true
   },
   "source": [
    "## Choose Word\n",
    "\n",
    "Implement the pick_word() function to select the next word using probabilities"
   ]
  },
  {
   "cell_type": "code",
   "execution_count": 16,
   "metadata": {
    "collapsed": true,
    "deletable": true,
    "editable": true
   },
   "outputs": [],
   "source": [
    "def pick_word(probabilities, int_to_vocab):\n",
    "    \"\"\"\n",
    "    Pick the next word in the generated text\n",
    "    :param probabilities: Probabilites of the next word\n",
    "    :param int_to_vocab: Dictionary of word ids as the keys and words as the values\n",
    "    :return: String of the predicted word\n",
    "    \"\"\"\n",
    "    # TODO: Implement Function\n",
    "    probabilities = np.squeeze(probabilities)\n",
    "    probabilities[np.argsort(probabilities)[:-5]] = 0\n",
    "    probabilities = probabilities / np.sum(probabilities)\n",
    "    return np.random.choice(list(int_to_vocab.values()), 1, p=probabilities)[0]"
   ]
  },
  {
   "cell_type": "markdown",
   "metadata": {
    "deletable": true,
    "editable": true
   },
   "source": [
    "## Generate Velmax Thread\n",
    "\n",
    "This will generate the Velmax Thread. We will set gen_length to the length of Thread we want to generate."
   ]
  },
  {
   "cell_type": "code",
   "execution_count": 17,
   "metadata": {
    "collapsed": false,
    "deletable": true,
    "editable": true
   },
   "outputs": [
    {
     "name": "stdout",
     "output_type": "stream",
     "text": [
      "INFO:tensorflow:Restoring parameters from ./save\n",
      "hola mira te mande correo con la papeleria de mi novia.. gracias.\n",
      "princesaranita: si yo en la mañana a dejar hoy si me quedo asi como de tu casa, de todos modos vas a trabajar a la cantera.. porque hay que hacer algo extra :si:.\n",
      "afigueredo88: gracias, buena onda.\n",
      "pablo mp3: mucha!.\n",
      "danielmoc: te envie mi cv. oralex.\n",
      "anita la chinita: sin limites... está a la plaza...\n",
      "agphone: pm chavos.\n",
      "brenic: y de que es lo que te van a enviar y no es mi,. : vos lo que pasa es que tengo un cacho de experiencia en ventas, por si te interesa es de algo me avisas.\n",
      "charles gyborin: mucha si eso es cierto. cuanto se gana el trabaja o call center que dias, si hay rango de edades esta hasta el 2.\n",
      "shadow_ap: que onda me mandan para la info!!!.\n",
      "makillo: uta!! aki en q. 300.\n",
      "cheves: yo se de alguien, cuando puede llegar? hoy?.\n",
      "huguinho: hasta el doble de eso?.\n",
      "pabloyoc: los sueldos del foro que asi que me mando su cv le urge gracias.\n",
      "alexlm: grax men.\n",
      "jruizw: a la guicha de mujer hombre asdlgjkasdg, si aquel sabe de redes y demás fui a sus ordenes.\n",
      "un chance de preferencia.\n",
      "3n3m1g0: si esta en la u buena onda, lastima que no estan en el colegio y listo al final pero de ver que onda..\n",
      "\n",
      "\n",
      "java: chance en guate\n"
     ]
    }
   ],
   "source": [
    "gen_length = 300\n",
    "# username from threads\n",
    "prime_word = 'hola'\n",
    "\n",
    "\n",
    "loaded_graph = tf.Graph()\n",
    "with tf.Session(graph=loaded_graph) as sess:\n",
    "    # Load saved model\n",
    "    loader = tf.train.import_meta_graph(load_dir + '.meta')\n",
    "    loader.restore(sess, load_dir)\n",
    "\n",
    "    # Get Tensors from loaded model\n",
    "    input_text, initial_state, final_state, probs, keep_prob = get_tensors(loaded_graph)\n",
    "\n",
    "    # Sentences generation setup\n",
    "    gen_sentences = [prime_word]\n",
    "    prev_state = sess.run(initial_state, {input_text: np.array([[1]])})\n",
    "\n",
    "    # Generate sentences\n",
    "    for n in range(gen_length):\n",
    "        # Dynamic Input\n",
    "        dyn_input = [[vocab_to_int[word] for word in gen_sentences[-seq_length:]]]\n",
    "        dyn_seq_length = len(dyn_input[0])\n",
    "\n",
    "        # Get Prediction\n",
    "        probabilities, prev_state = sess.run(\n",
    "            [probs, final_state],\n",
    "            {input_text: dyn_input, initial_state: prev_state, keep_prob: 1})\n",
    "        \n",
    "        pred_word = pick_word(probabilities[dyn_seq_length-1], int_to_vocab)\n",
    "\n",
    "        gen_sentences.append(pred_word)\n",
    "    \n",
    "    # Remove tokens\n",
    "    velmax_thread = ' '.join(gen_sentences)\n",
    "    for key, token in token_dict.items():\n",
    "        ending = ' ' if key in ['\\n', '(', '\"'] else ''\n",
    "        velmax_thread = velmax_thread.replace(' ' + token.lower(), key)\n",
    "    velmax_thread = velmax_thread.replace('\\n ', '\\n')\n",
    "    velmax_thread = velmax_thread.replace('( ', '(')\n",
    "        \n",
    "    print(velmax_thread)"
   ]
  },
  {
   "cell_type": "code",
   "execution_count": null,
   "metadata": {
    "collapsed": true,
    "deletable": true,
    "editable": true
   },
   "outputs": [],
   "source": [
    ""
   ]
  },
  {
   "cell_type": "code",
   "execution_count": null,
   "metadata": {
    "collapsed": true,
    "deletable": true,
    "editable": true
   },
   "outputs": [],
   "source": [
    ""
   ]
  }
 ],
 "metadata": {
  "kernelspec": {
   "display_name": "Python 3",
   "language": "python",
   "name": "python3"
  },
  "language_info": {
   "codemirror_mode": {
    "name": "ipython",
    "version": 3.0
   },
   "file_extension": ".py",
   "mimetype": "text/x-python",
   "name": "python",
   "nbconvert_exporter": "python",
   "pygments_lexer": "ipython3",
   "version": "3.5.3"
  }
 },
 "nbformat": 4,
 "nbformat_minor": 0
}